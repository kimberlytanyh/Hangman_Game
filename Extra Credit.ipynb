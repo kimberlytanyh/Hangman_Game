{
 "cells": [
  {
   "cell_type": "markdown",
   "metadata": {},
   "source": [
    "# Hangman Game"
   ]
  },
  {
   "cell_type": "code",
   "execution_count": null,
   "metadata": {},
   "outputs": [],
   "source": [
    "# write a program that implements the hangman game. Hangman is a simple letter guessing game. \n",
    "# The computer picks a word (from a file) and displays it with underscores replacing the letters. \n",
    "# The user tries to figure out the word by guessing one letter at a time. \n",
    "# The user loses if they guess too many incorrect letters. \n",
    "\n",
    "    #The program should get it's randomly-chosen word from this file of words\n",
    "    \n",
    "    #The user should be able to enter either upper or lowercase letters\n",
    "    \n",
    "    #Tell the user if they have already entered a given letter (and don't count it against them)\n",
    "    \n",
    "    #Update the display after each letter guessed and tell the user how many incorrect guesses they have left\n",
    "    \n",
    "    #Print out a message indicating if the guessed letter was correct or not\n",
    "    \n",
    "    #Continue to get the user's next valid letter guess (it has to be a single alphabetic character \n",
    "    #and not one s/he has guessed before) until the entire word is guessed correctly or \n",
    "    #until 8 attempts are completed\n",
    "    \n",
    "    #Print out a message at the end of the game indicating if the player won or not, \n",
    "    #and if not, print out the word s/he was trying to guess\n"
   ]
  },
  {
   "cell_type": "code",
   "execution_count": 2,
   "metadata": {},
   "outputs": [],
   "source": [
    "import random\n",
    "\n",
    "def hangman():\n",
    "    # get randomly-chosen word from file\n",
    "    count = 0\n",
    "    words = open('words.txt','r')\n",
    "    randonum = random.randint(1,12)\n",
    "    for i in range(randonum):\n",
    "        for line in words:\n",
    "            count += 1\n",
    "            if count == randonum:\n",
    "                word = line.rstrip()\n",
    "    words.close()\n",
    "    \n",
    "    # displays word with underscores replacing the letters\n",
    "    length = len(word)\n",
    "    display = \"_ \"*length\n",
    "    \n",
    "    #to store guessed letters and their position in the word\n",
    "    my_dictionary = {}\n",
    "    print(display + \"\\n\")\n",
    "\n",
    "    attempts = 0\n",
    "    entered = []\n",
    "    position = 0\n",
    "    invalids = ['0','1','2','3','4','5','6','7','8','9','!','@','#','$','%','^','&','*','(',')','{','}','-','_','+','=','[',']',':',';','\"',\"'\",',','<','>','.','?','/']\n",
    "\n",
    "    # user tries to figure out the word by guessing one letter at a time\n",
    "    letter = input(\"Guess a letter: \")\n",
    "    \n",
    "    # it has to be a single alphabetic character and not one s/he has guessed before\n",
    "    while letter != \"\":\n",
    "        if len(letter) > 1 or letter in invalids:\n",
    "            print(\"Invalid entry. Enter only one alphabetic letter.\")\n",
    "        else:\n",
    "            # user should be able to enter either upper or lowercase letters           \n",
    "            letterlower = letter.lower()\n",
    "            # Tell the user if they have already entered a given letter\n",
    "            if letterlower in entered:\n",
    "                print(\"You have guessed this letter before. Try another letter.\\n\")\n",
    "            else:\n",
    "                entered.append(letter)\n",
    "                if letter in word:\n",
    "                    print(\"Correct guess.\")\n",
    "                    for l in word:\n",
    "                        if l == letter:\n",
    "                    # Update the display after each letter guessed\n",
    "                            my_dictionary[position] = letter\n",
    "                            position += 1\n",
    "                            display = ''\n",
    "                            for i in range(length):\n",
    "                                if i not in my_dictionary:\n",
    "                                    display += '_ '\n",
    "                                elif i in my_dictionary:\n",
    "                                    display += my_dictionary[i]+\" \"\n",
    "                        else:\n",
    "                            position += 1\n",
    "                    print(\"\\n\"+ display + \"\\n\")\n",
    "                else: \n",
    "                    print(\"Wrong guess.\")\n",
    "                    attempts += 1\n",
    "                    print(\"You have\", 8-attempts, \"incorrect guess(es) left.\")\n",
    "                    if attempts < 8:\n",
    "                        print(\"\\n\"+ display + \"\\n\")\n",
    "                    \n",
    "        # Continue to get the user's next valid letter guess until the entire word is guessed correctly or \n",
    "        # until 8 attempts are completed\n",
    "        if '_ ' not in display:\n",
    "            print(\"You guessed it! You won!\")\n",
    "            break\n",
    "            \n",
    "        # Tell the user how many incorrect guesses they have left\n",
    "        if attempts == 8:\n",
    "            # indicate whether the user has won and if not, show the word\n",
    "            print(\"\\nYou've run out of attempts. You've lost.\\n\" + \"The word was\", word)\n",
    "            break\n",
    "        else: \n",
    "            position = 0\n",
    "            letter = input(\"Guess a letter: \")"
   ]
  },
  {
   "cell_type": "code",
   "execution_count": 3,
   "metadata": {},
   "outputs": [
    {
     "name": "stdout",
     "output_type": "stream",
     "text": [
      "_ _ _ _ _ _ _ _ _ _ \n",
      "\n",
      "Guess a letter: ]\n",
      "Invalid entry. Enter only one alphabetic letter.\n",
      "Guess a letter: '\n",
      "Invalid entry. Enter only one alphabetic letter.\n",
      "Guess a letter: l\n",
      "Wrong guess.\n",
      "You have 7 incorrect guess(es) left.\n",
      "\n",
      "_ _ _ _ _ _ _ _ _ _ \n",
      "\n",
      "Guess a letter: m\n",
      "Wrong guess.\n",
      "You have 6 incorrect guess(es) left.\n",
      "\n",
      "_ _ _ _ _ _ _ _ _ _ \n",
      "\n",
      "Guess a letter: o\n",
      "Correct guess.\n",
      "\n",
      "_ o _ _ _ _ _ _ _ _ \n",
      "\n",
      "Guess a letter: p\n",
      "Correct guess.\n",
      "\n",
      "p o _ _ _ _ _ _ _ _ \n",
      "\n",
      "Guess a letter: s\n",
      "Correct guess.\n",
      "\n",
      "p o s s _ s s _ _ _ \n",
      "\n",
      "Guess a letter: e\n",
      "Correct guess.\n",
      "\n",
      "p o s s e s s _ _ e \n",
      "\n",
      "Guess a letter: '\n",
      "Invalid entry. Enter only one alphabetic letter.\n",
      "Guess a letter: n\n",
      "Wrong guess.\n",
      "You have 5 incorrect guess(es) left.\n",
      "\n",
      "p o s s e s s _ _ e \n",
      "\n",
      "Guess a letter: z\n",
      "Wrong guess.\n",
      "You have 4 incorrect guess(es) left.\n",
      "\n",
      "p o s s e s s _ _ e \n",
      "\n",
      "Guess a letter: x\n",
      "Wrong guess.\n",
      "You have 3 incorrect guess(es) left.\n",
      "\n",
      "p o s s e s s _ _ e \n",
      "\n",
      "Guess a letter: q\n",
      "Wrong guess.\n",
      "You have 2 incorrect guess(es) left.\n",
      "\n",
      "p o s s e s s _ _ e \n",
      "\n",
      "Guess a letter: w\n",
      "Wrong guess.\n",
      "You have 1 incorrect guess(es) left.\n",
      "\n",
      "p o s s e s s _ _ e \n",
      "\n",
      "Guess a letter: v\n",
      "Correct guess.\n",
      "\n",
      "p o s s e s s _ v e \n",
      "\n",
      "Guess a letter: a\n",
      "Wrong guess.\n",
      "You have 0 incorrect guess(es) left.\n",
      "\n",
      "You've run out of attempts. You've lost.\n",
      "The word was possessive\n"
     ]
    }
   ],
   "source": [
    "hangman()"
   ]
  },
  {
   "cell_type": "markdown",
   "metadata": {},
   "source": [
    "## Notes for Self"
   ]
  },
  {
   "cell_type": "code",
   "execution_count": 14,
   "metadata": {},
   "outputs": [
    {
     "name": "stdout",
     "output_type": "stream",
     "text": [
      "[0, 2]\n"
     ]
    }
   ],
   "source": [
    "word = 'aba'\n",
    "index = []\n",
    "count = 0\n",
    "for i in word:\n",
    "    if i == 'a':\n",
    "        index.append(count)\n",
    "        count += 1\n",
    "    else:\n",
    "        count += 1\n",
    "print(index)\n"
   ]
  },
  {
   "cell_type": "code",
   "execution_count": null,
   "metadata": {},
   "outputs": [],
   "source": [
    "# user should be able to enter either upper or lowercase letters           \n",
    "    letter = input(\"Guess a letter: \")\n",
    "    letterlower = letter.lower()"
   ]
  },
  {
   "cell_type": "code",
   "execution_count": 11,
   "metadata": {},
   "outputs": [
    {
     "name": "stdout",
     "output_type": "stream",
     "text": [
      "No\n"
     ]
    }
   ],
   "source": [
    "numbers = [1,2,3]\n",
    "\n",
    "if 5 in numbers:\n",
    "    print(\"Yes\")\n",
    "else:\n",
    "    print(\"No\")"
   ]
  }
 ],
 "metadata": {
  "kernelspec": {
   "display_name": "Python 3",
   "language": "python",
   "name": "python3"
  },
  "language_info": {
   "codemirror_mode": {
    "name": "ipython",
    "version": 3
   },
   "file_extension": ".py",
   "mimetype": "text/x-python",
   "name": "python",
   "nbconvert_exporter": "python",
   "pygments_lexer": "ipython3",
   "version": "3.8.3"
  }
 },
 "nbformat": 4,
 "nbformat_minor": 4
}
